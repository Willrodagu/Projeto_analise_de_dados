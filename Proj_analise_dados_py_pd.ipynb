{
  "nbformat": 4,
  "nbformat_minor": 0,
  "metadata": {
    "colab": {
      "name": "Proj_analise_dados_py_pd.ipynb",
      "provenance": [],
      "authorship_tag": "ABX9TyO+InyUvnDKZaR+bdjqpTBX",
      "include_colab_link": true
    },
    "kernelspec": {
      "name": "python3",
      "display_name": "Python 3"
    },
    "language_info": {
      "name": "python"
    }
  },
  "cells": [
    {
      "cell_type": "markdown",
      "metadata": {
        "id": "view-in-github",
        "colab_type": "text"
      },
      "source": [
        "<a href=\"https://colab.research.google.com/github/Willrodagu/Projeto_analise_de_dados/blob/main/Proj_analise_dados_py_pd.ipynb\" target=\"_parent\"><img src=\"https://colab.research.google.com/assets/colab-badge.svg\" alt=\"Open In Colab\"/></a>"
      ]
    },
    {
      "cell_type": "markdown",
      "metadata": {
        "id": "kEh2BXbp8DmC"
      },
      "source": [
        "# **Projeto de analise de dados com Python e Pandas**"
      ]
    },
    {
      "cell_type": "markdown",
      "metadata": {
        "id": "Eyh0Hinaf5x2"
      },
      "source": [
        "## O projeto visa analisar a distribuição dos respiradores por parte do Ministério da Saúde a estados e municípios.\n",
        "\n",
        "Fonte: https://dados.gov.br/dataset/distribuicao-de-respiradores"
      ]
    },
    {
      "cell_type": "code",
      "metadata": {
        "id": "sLMeQrXI8CRU"
      },
      "source": [
        "import pandas as pd"
      ],
      "execution_count": null,
      "outputs": []
    }
  ]
}
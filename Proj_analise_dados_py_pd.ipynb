{
  "nbformat": 4,
  "nbformat_minor": 0,
  "metadata": {
    "colab": {
      "name": "Proj_analise_dados_py_pd.ipynb",
      "provenance": [],
      "authorship_tag": "ABX9TyN+L7EltJ6wId50OeYNS1Hd",
      "include_colab_link": true
    },
    "kernelspec": {
      "name": "python3",
      "display_name": "Python 3"
    },
    "language_info": {
      "name": "python"
    }
  },
  "cells": [
    {
      "cell_type": "markdown",
      "metadata": {
        "id": "view-in-github",
        "colab_type": "text"
      },
      "source": [
        "<a href=\"https://colab.research.google.com/github/Willrodagu/Projeto_analise_de_dados/blob/main/Proj_analise_dados_py_pd.ipynb\" target=\"_parent\"><img src=\"https://colab.research.google.com/assets/colab-badge.svg\" alt=\"Open In Colab\"/></a>"
      ]
    },
    {
      "cell_type": "markdown",
      "metadata": {
        "id": "kEh2BXbp8DmC"
      },
      "source": [
        "# **Projeto de analise de dados com Python e Pandas**"
      ]
    },
    {
      "cell_type": "markdown",
      "metadata": {
        "id": "Eyh0Hinaf5x2"
      },
      "source": [
        "## O projeto tem por objetivo analisar os estoques de Almoxarifado da UFRN utilizando Python e Pandas.\n",
        "\n",
        "Fonte: https://dados.gov.br/dataset/estoques-de-almoxarifado/resource/3c4440f8-6b48-4cfe-9c3e-84972c5ffa28"
      ]
    },
    {
      "cell_type": "code",
      "metadata": {
        "id": "8y2wodHEhQjQ"
      },
      "source": [
        "import pandas as pd"
      ],
      "execution_count": 10,
      "outputs": []
    },
    {
      "cell_type": "code",
      "metadata": {
        "id": "FhVVQrNwhWB9",
        "outputId": "05ffeaf2-8af1-4b38-d2ea-23b8280d81fa",
        "colab": {
          "base_uri": "https://localhost:8080/",
          "height": 205
        }
      },
      "source": [
        "#IMPORTANDO A BASE DE DADOS\n",
        "\n",
        "df = pd.read_csv(\"/content/drive/MyDrive/DATASETS/estoquealmoxarifado.csv\", sep=\";\")\n",
        "df.head()"
      ],
      "execution_count": 16,
      "outputs": [
        {
          "output_type": "execute_result",
          "data": {
            "text/html": [
              "<div>\n",
              "<style scoped>\n",
              "    .dataframe tbody tr th:only-of-type {\n",
              "        vertical-align: middle;\n",
              "    }\n",
              "\n",
              "    .dataframe tbody tr th {\n",
              "        vertical-align: top;\n",
              "    }\n",
              "\n",
              "    .dataframe thead th {\n",
              "        text-align: right;\n",
              "    }\n",
              "</style>\n",
              "<table border=\"1\" class=\"dataframe\">\n",
              "  <thead>\n",
              "    <tr style=\"text-align: right;\">\n",
              "      <th></th>\n",
              "      <th>material</th>\n",
              "      <th>almoxarifado</th>\n",
              "      <th>saldo</th>\n",
              "      <th>preco</th>\n",
              "      <th>valor_total</th>\n",
              "    </tr>\n",
              "  </thead>\n",
              "  <tbody>\n",
              "    <tr>\n",
              "      <th>0</th>\n",
              "      <td>279329 - FÓSFORO / PACOTE 10,00 CX - MARCA: BILA</td>\n",
              "      <td>ALMOXARIFADO - CB</td>\n",
              "      <td>2.0</td>\n",
              "      <td>R$             2,25</td>\n",
              "      <td>R$             4,50</td>\n",
              "    </tr>\n",
              "    <tr>\n",
              "      <th>1</th>\n",
              "      <td>ÁCIDO NÍTRICO - PA - 1000ML</td>\n",
              "      <td>ALMOXARIFADO - CB</td>\n",
              "      <td>12.0</td>\n",
              "      <td>R$             6,80</td>\n",
              "      <td>R$            81,60</td>\n",
              "    </tr>\n",
              "    <tr>\n",
              "      <th>2</th>\n",
              "      <td>AGENDA PARA TELEFONES/ENDERECOS</td>\n",
              "      <td>ALMOXARIFADO - CB</td>\n",
              "      <td>17.0</td>\n",
              "      <td>R$             8,01</td>\n",
              "      <td>R$           136,12</td>\n",
              "    </tr>\n",
              "    <tr>\n",
              "      <th>3</th>\n",
              "      <td>AGENDA PERMANENTE</td>\n",
              "      <td>ALMOXARIFADO - CB</td>\n",
              "      <td>2.0</td>\n",
              "      <td>R$             9,83</td>\n",
              "      <td>R$            19,65</td>\n",
              "    </tr>\n",
              "    <tr>\n",
              "      <th>4</th>\n",
              "      <td>AGUA MINERAL - 20L - ENTREGA EM NATAL/RN</td>\n",
              "      <td>ALMOXARIFADO - CB</td>\n",
              "      <td>3654.0</td>\n",
              "      <td>R$             2,61</td>\n",
              "      <td>R$         9.552,72</td>\n",
              "    </tr>\n",
              "  </tbody>\n",
              "</table>\n",
              "</div>"
            ],
            "text/plain": [
              "                                           material  ...          valor_total\n",
              "0  279329 - FÓSFORO / PACOTE 10,00 CX - MARCA: BILA  ...  R$             4,50\n",
              "1                       ÁCIDO NÍTRICO - PA - 1000ML  ...  R$            81,60\n",
              "2                   AGENDA PARA TELEFONES/ENDERECOS  ...  R$           136,12\n",
              "3                                 AGENDA PERMANENTE  ...  R$            19,65\n",
              "4          AGUA MINERAL - 20L - ENTREGA EM NATAL/RN  ...  R$         9.552,72\n",
              "\n",
              "[5 rows x 5 columns]"
            ]
          },
          "metadata": {},
          "execution_count": 16
        }
      ]
    },
    {
      "cell_type": "code",
      "metadata": {
        "id": "B4ioLNEMiqvJ",
        "outputId": "84b6e671-ad2b-441d-b873-314d26526804",
        "colab": {
          "base_uri": "https://localhost:8080/",
          "height": 205
        }
      },
      "source": [
        "#RENOMEANDO COLUNA DA TABELA\n",
        "df = df.rename(columns={\"saldo\":\"saldo (qt.)\"})\n",
        "df.head()"
      ],
      "execution_count": 23,
      "outputs": [
        {
          "output_type": "execute_result",
          "data": {
            "text/html": [
              "<div>\n",
              "<style scoped>\n",
              "    .dataframe tbody tr th:only-of-type {\n",
              "        vertical-align: middle;\n",
              "    }\n",
              "\n",
              "    .dataframe tbody tr th {\n",
              "        vertical-align: top;\n",
              "    }\n",
              "\n",
              "    .dataframe thead th {\n",
              "        text-align: right;\n",
              "    }\n",
              "</style>\n",
              "<table border=\"1\" class=\"dataframe\">\n",
              "  <thead>\n",
              "    <tr style=\"text-align: right;\">\n",
              "      <th></th>\n",
              "      <th>material</th>\n",
              "      <th>almoxarifado</th>\n",
              "      <th>saldo (qt.)</th>\n",
              "      <th>preco</th>\n",
              "      <th>valor_total</th>\n",
              "    </tr>\n",
              "  </thead>\n",
              "  <tbody>\n",
              "    <tr>\n",
              "      <th>0</th>\n",
              "      <td>279329 - FÓSFORO / PACOTE 10,00 CX - MARCA: BILA</td>\n",
              "      <td>ALMOXARIFADO - CB</td>\n",
              "      <td>2.0</td>\n",
              "      <td>R$             2,25</td>\n",
              "      <td>R$             4,50</td>\n",
              "    </tr>\n",
              "    <tr>\n",
              "      <th>1</th>\n",
              "      <td>ÁCIDO NÍTRICO - PA - 1000ML</td>\n",
              "      <td>ALMOXARIFADO - CB</td>\n",
              "      <td>12.0</td>\n",
              "      <td>R$             6,80</td>\n",
              "      <td>R$            81,60</td>\n",
              "    </tr>\n",
              "    <tr>\n",
              "      <th>2</th>\n",
              "      <td>AGENDA PARA TELEFONES/ENDERECOS</td>\n",
              "      <td>ALMOXARIFADO - CB</td>\n",
              "      <td>17.0</td>\n",
              "      <td>R$             8,01</td>\n",
              "      <td>R$           136,12</td>\n",
              "    </tr>\n",
              "    <tr>\n",
              "      <th>3</th>\n",
              "      <td>AGENDA PERMANENTE</td>\n",
              "      <td>ALMOXARIFADO - CB</td>\n",
              "      <td>2.0</td>\n",
              "      <td>R$             9,83</td>\n",
              "      <td>R$            19,65</td>\n",
              "    </tr>\n",
              "    <tr>\n",
              "      <th>4</th>\n",
              "      <td>AGUA MINERAL - 20L - ENTREGA EM NATAL/RN</td>\n",
              "      <td>ALMOXARIFADO - CB</td>\n",
              "      <td>3654.0</td>\n",
              "      <td>R$             2,61</td>\n",
              "      <td>R$         9.552,72</td>\n",
              "    </tr>\n",
              "  </tbody>\n",
              "</table>\n",
              "</div>"
            ],
            "text/plain": [
              "                                           material  ...          valor_total\n",
              "0  279329 - FÓSFORO / PACOTE 10,00 CX - MARCA: BILA  ...  R$             4,50\n",
              "1                       ÁCIDO NÍTRICO - PA - 1000ML  ...  R$            81,60\n",
              "2                   AGENDA PARA TELEFONES/ENDERECOS  ...  R$           136,12\n",
              "3                                 AGENDA PERMANENTE  ...  R$            19,65\n",
              "4          AGUA MINERAL - 20L - ENTREGA EM NATAL/RN  ...  R$         9.552,72\n",
              "\n",
              "[5 rows x 5 columns]"
            ]
          },
          "metadata": {},
          "execution_count": 23
        }
      ]
    },
    {
      "cell_type": "code",
      "metadata": {
        "id": "csSkJNPgmsTP"
      },
      "source": [
        ""
      ],
      "execution_count": null,
      "outputs": []
    }
  ]
}
{
  "nbformat": 4,
  "nbformat_minor": 0,
  "metadata": {
    "colab": {
      "name": "Proj_analise_dados_py_pd.ipynb",
      "provenance": [],
      "authorship_tag": "ABX9TyNArdz1zdxtXm2XdTyfOiK3",
      "include_colab_link": true
    },
    "kernelspec": {
      "name": "python3",
      "display_name": "Python 3"
    },
    "language_info": {
      "name": "python"
    }
  },
  "cells": [
    {
      "cell_type": "markdown",
      "metadata": {
        "id": "view-in-github",
        "colab_type": "text"
      },
      "source": [
        "<a href=\"https://colab.research.google.com/github/Willrodagu/Projeto_analise_de_dados/blob/main/Proj_analise_dados_py_pd.ipynb\" target=\"_parent\"><img src=\"https://colab.research.google.com/assets/colab-badge.svg\" alt=\"Open In Colab\"/></a>"
      ]
    },
    {
      "cell_type": "markdown",
      "metadata": {
        "id": "kEh2BXbp8DmC"
      },
      "source": [
        "# **Projeto de analise de dados com Python e Pandas**"
      ]
    },
    {
      "cell_type": "code",
      "metadata": {
        "id": "sLMeQrXI8CRU"
      },
      "source": [
        "import pandas as pd"
      ],
      "execution_count": 1,
      "outputs": []
    }
  ]
}
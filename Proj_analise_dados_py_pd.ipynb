{
  "nbformat": 4,
  "nbformat_minor": 0,
  "metadata": {
    "colab": {
      "name": "Proj_analise_dados_py_pd.ipynb",
      "provenance": [],
      "authorship_tag": "ABX9TyPCLZonMf3Q+SBXXto16kZg",
      "include_colab_link": true
    },
    "kernelspec": {
      "name": "python3",
      "display_name": "Python 3"
    },
    "language_info": {
      "name": "python"
    }
  },
  "cells": [
    {
      "cell_type": "markdown",
      "metadata": {
        "id": "view-in-github",
        "colab_type": "text"
      },
      "source": [
        "<a href=\"https://colab.research.google.com/github/Willrodagu/Projeto_analise_de_dados/blob/main/Proj_analise_dados_py_pd.ipynb\" target=\"_parent\"><img src=\"https://colab.research.google.com/assets/colab-badge.svg\" alt=\"Open In Colab\"/></a>"
      ]
    },
    {
      "cell_type": "markdown",
      "metadata": {
        "id": "kEh2BXbp8DmC"
      },
      "source": [
        "# **Projeto de analise de dados com Python e Pandas**"
      ]
    },
    {
      "cell_type": "markdown",
      "metadata": {
        "id": "Eyh0Hinaf5x2"
      },
      "source": [
        "## O projeto tem por objetivo analisar os estoques de Almoxarifado da UFRN utilizando Python e Pandas.\n",
        "\n",
        "Fonte: https://dados.gov.br/dataset/estoques-de-almoxarifado/resource/3c4440f8-6b48-4cfe-9c3e-84972c5ffa28"
      ]
    },
    {
      "cell_type": "code",
      "metadata": {
        "id": "sLMeQrXI8CRU"
      },
      "source": [
        "import pandas as pd"
      ],
      "execution_count": 20,
      "outputs": []
    },
    {
      "cell_type": "code",
      "metadata": {
        "id": "q-28G5bR3cVV",
        "outputId": "34611faf-07d1-499b-fbd7-d6d7f037d618",
        "colab": {
          "base_uri": "https://localhost:8080/"
        }
      },
      "source": [
        "df = pd.read_csv(\"/content/drive/MyDrive/DATASETS/estoquealmoxarifado.csv\")\n",
        "print(df)"
      ],
      "execution_count": 23,
      "outputs": [
        {
          "output_type": "stream",
          "name": "stdout",
          "text": [
            "                                                                         material;\"almoxarifado\";\"saldo\";\"preco\";\"valor_total\"\n",
            "279329 - FÓSFORO / PACOTE 10,00 CX - MARCA: BIL... 25\";\"R$             4                                                50\"   \n",
            "ÁCIDO NÍTRICO - PA - 1000ML;\"ALMOXARIFADO - CB\"... 80\";\"R$            81                                                60\"   \n",
            "AGENDA PARA TELEFONES/ENDERECOS;\"ALMOXARIFADO -... 01\";\"R$           136                                                12\"   \n",
            "AGENDA PERMANENTE;\"ALMOXARIFADO - CB\";\"2.0\";\"R$... 83\";\"R$            19                                                65\"   \n",
            "AGUA MINERAL - 20L - ENTREGA EM NATAL/RN;\"ALMOX... 61\";\"R$         9.552                                                72\"   \n",
            "...                                                                                                                     ...   \n",
            "VITAMINA C (ACIDO ASCORBICO) - (100MG/ML) - 5ML... 57\";\"R$           154                                                60\"   \n",
            "VITAMINA C (ACIDO ASCORBICO) (200MG/ML) - 20ML;... 95\";\"R$            59                                                85\"   \n",
            "VITAMINA K (FITOMENADIONA) (10MG/ML) - 1ML;\"MEJ... 85\";\"R$         2.255                                                07\"   \n",
            "VITAMINAS A, B1, B2, B5,B6, C, D, E, H, NICOTIN... 31\";\"R$            63                                                10\"   \n",
            "XILOL;\"MEJC/EBSERH - ALMOXARIFADO DE MEDICAMENT... 50\";\"R$           737                                                50\"   \n",
            "\n",
            "[8934 rows x 1 columns]\n"
          ]
        }
      ]
    }
  ]
}